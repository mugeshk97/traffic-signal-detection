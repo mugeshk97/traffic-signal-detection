{
 "cells": [
  {
   "cell_type": "code",
   "execution_count": 1,
   "source": [
    "import tensorflow as tf\n",
    "gpu = tf.config.experimental.list_physical_devices(\"GPU\")[0]\n",
    "tf.config.experimental.set_memory_growth(gpu, True)"
   ],
   "outputs": [],
   "metadata": {}
  },
  {
   "cell_type": "code",
   "execution_count": 2,
   "source": [
    "import cv2\n",
    "import numpy as np"
   ],
   "outputs": [],
   "metadata": {}
  },
  {
   "cell_type": "code",
   "execution_count": 3,
   "source": [
    "main = cv2.imread('data/green/189.jpg')"
   ],
   "outputs": [],
   "metadata": {}
  },
  {
   "cell_type": "code",
   "execution_count": 4,
   "source": [
    "main.shape"
   ],
   "outputs": [
    {
     "output_type": "execute_result",
     "data": {
      "text/plain": [
       "(100, 46, 3)"
      ]
     },
     "metadata": {},
     "execution_count": 4
    }
   ],
   "metadata": {}
  },
  {
   "cell_type": "code",
   "execution_count": 3,
   "source": [
    "data = tf.keras.preprocessing.image_dataset_from_directory(\"data/\",shuffle = True, seed = 11,\n",
    "                                                          image_size = (100, 50), \n",
    "                                                          batch_size = 32)"
   ],
   "outputs": [
    {
     "output_type": "stream",
     "name": "stdout",
     "text": [
      "Found 450 files belonging to 3 classes.\n"
     ]
    }
   ],
   "metadata": {}
  },
  {
   "cell_type": "code",
   "execution_count": 4,
   "source": [
    "class_names = data.class_names\n",
    "class_names"
   ],
   "outputs": [
    {
     "output_type": "execute_result",
     "data": {
      "text/plain": [
       "['green', 'red', 'yellow']"
      ]
     },
     "metadata": {},
     "execution_count": 4
    }
   ],
   "metadata": {}
  },
  {
   "cell_type": "code",
   "execution_count": 5,
   "source": [
    "def dataset_partitions(ds, train_split=0.8, val_split=0.1, test_split=0.1):\n",
    "    \n",
    "    ds_size = len(ds)\n",
    "    \n",
    "    train_size = int(train_split * ds_size)\n",
    "    val_size = int(val_split * ds_size)\n",
    "    \n",
    "    train_ds = ds.take(train_size)    \n",
    "    val_ds = ds.skip(train_size).take(val_size)\n",
    "    test_ds = ds.skip(train_size).skip(val_size)\n",
    "    \n",
    "    return train_ds, val_ds, test_ds"
   ],
   "outputs": [],
   "metadata": {}
  },
  {
   "cell_type": "code",
   "execution_count": 6,
   "source": [
    "train, val, test = dataset_partitions(data)"
   ],
   "outputs": [],
   "metadata": {}
  },
  {
   "cell_type": "code",
   "execution_count": 7,
   "source": [
    "train = train.cache().shuffle(100).prefetch(buffer_size=tf.data.AUTOTUNE)\n",
    "val = val.cache().shuffle(100).prefetch(buffer_size=tf.data.AUTOTUNE)\n",
    "test = test.cache().shuffle(100).prefetch(buffer_size=tf.data.AUTOTUNE)"
   ],
   "outputs": [],
   "metadata": {}
  },
  {
   "cell_type": "code",
   "execution_count": 8,
   "source": [
    "resize_and_rescale = tf.keras.Sequential([\n",
    "  tf.keras.layers.experimental.preprocessing.Resizing(100, 50),\n",
    "  tf.keras.layers.experimental.preprocessing.Rescaling(1./255),\n",
    "])"
   ],
   "outputs": [],
   "metadata": {}
  },
  {
   "cell_type": "code",
   "execution_count": 9,
   "source": [
    "NUM_CLASSES = len(data.class_names)\n",
    "INPUT_SHAPE = (32, 100, 50, 3)"
   ],
   "outputs": [],
   "metadata": {}
  },
  {
   "cell_type": "code",
   "execution_count": 12,
   "source": [
    "model = tf.keras.models.Sequential([\n",
    "    resize_and_rescale,\n",
    "    tf.keras.layers.Conv2D(16, kernel_size = (3,3), activation='relu', input_shape=INPUT_SHAPE),\n",
    "    tf.keras.layers.MaxPooling2D((2, 2)),\n",
    "    tf.keras.layers.Conv2D(32, (3, 3), activation='relu'),\n",
    "    tf.keras.layers.MaxPooling2D((2, 2)),\n",
    "    tf.keras.layers.Flatten(),\n",
    "    tf.keras.layers.Dense(32, activation='relu'),\n",
    "    tf.keras.layers.Dense(NUM_CLASSES, activation='softmax'),\n",
    "])"
   ],
   "outputs": [],
   "metadata": {}
  },
  {
   "cell_type": "code",
   "execution_count": 13,
   "source": [
    "model.build(INPUT_SHAPE)"
   ],
   "outputs": [],
   "metadata": {}
  },
  {
   "cell_type": "code",
   "execution_count": 14,
   "source": [
    "model.summary()"
   ],
   "outputs": [
    {
     "output_type": "stream",
     "name": "stdout",
     "text": [
      "Model: \"sequential_2\"\n",
      "_________________________________________________________________\n",
      "Layer (type)                 Output Shape              Param #   \n",
      "=================================================================\n",
      "sequential (Sequential)      (32, 100, 50, 3)          0         \n",
      "_________________________________________________________________\n",
      "conv2d_2 (Conv2D)            (32, 98, 48, 16)          448       \n",
      "_________________________________________________________________\n",
      "max_pooling2d_2 (MaxPooling2 (32, 49, 24, 16)          0         \n",
      "_________________________________________________________________\n",
      "conv2d_3 (Conv2D)            (32, 47, 22, 32)          4640      \n",
      "_________________________________________________________________\n",
      "max_pooling2d_3 (MaxPooling2 (32, 23, 11, 32)          0         \n",
      "_________________________________________________________________\n",
      "flatten_1 (Flatten)          (32, 8096)                0         \n",
      "_________________________________________________________________\n",
      "dense_2 (Dense)              (32, 32)                  259104    \n",
      "_________________________________________________________________\n",
      "dense_3 (Dense)              (32, 3)                   99        \n",
      "=================================================================\n",
      "Total params: 264,291\n",
      "Trainable params: 264,291\n",
      "Non-trainable params: 0\n",
      "_________________________________________________________________\n"
     ]
    }
   ],
   "metadata": {}
  },
  {
   "cell_type": "code",
   "execution_count": 21,
   "source": [
    "model.save('model')"
   ],
   "outputs": [
    {
     "output_type": "stream",
     "name": "stdout",
     "text": [
      "INFO:tensorflow:Assets written to: model/assets\n"
     ]
    }
   ],
   "metadata": {}
  },
  {
   "cell_type": "code",
   "execution_count": 16,
   "source": [
    "model.compile(\n",
    "    optimizer='adam',\n",
    "    loss=tf.keras.losses.SparseCategoricalCrossentropy(from_logits=False),\n",
    "    metrics=['accuracy']\n",
    ")"
   ],
   "outputs": [],
   "metadata": {}
  },
  {
   "cell_type": "code",
   "execution_count": 17,
   "source": [
    "history = model.fit(\n",
    "    train,\n",
    "    batch_size=32,\n",
    "    validation_data=val,\n",
    "    verbose=1,\n",
    "    epochs=2,\n",
    ")"
   ],
   "outputs": [
    {
     "output_type": "stream",
     "name": "stdout",
     "text": [
      "Epoch 1/2\n",
      "12/12 [==============================] - 6s 48ms/step - loss: 0.5741 - accuracy: 0.8121 - val_loss: 0.0105 - val_accuracy: 1.0000\n",
      "Epoch 2/2\n",
      "12/12 [==============================] - 0s 8ms/step - loss: 0.0389 - accuracy: 0.9930 - val_loss: 1.0554e-04 - val_accuracy: 1.0000\n"
     ]
    }
   ],
   "metadata": {}
  },
  {
   "cell_type": "code",
   "execution_count": 18,
   "source": [
    "scores = model.evaluate(test)\n",
    "scores"
   ],
   "outputs": [
    {
     "output_type": "stream",
     "name": "stdout",
     "text": [
      "2/2 [==============================] - 0s 45ms/step - loss: 5.8299e-04 - accuracy: 1.0000\n"
     ]
    },
    {
     "output_type": "execute_result",
     "data": {
      "text/plain": [
       "[0.0005829940200783312, 1.0]"
      ]
     },
     "metadata": {},
     "execution_count": 18
    }
   ],
   "metadata": {}
  },
  {
   "cell_type": "code",
   "execution_count": null,
   "source": [
    "m"
   ],
   "outputs": [],
   "metadata": {}
  }
 ],
 "metadata": {
  "kernelspec": {
   "name": "python3",
   "display_name": "Python 3.8.8 64-bit ('base': conda)"
  },
  "language_info": {
   "codemirror_mode": {
    "name": "ipython",
    "version": 3
   },
   "file_extension": ".py",
   "mimetype": "text/x-python",
   "name": "python",
   "nbconvert_exporter": "python",
   "pygments_lexer": "ipython3",
   "version": "3.8.8"
  },
  "interpreter": {
   "hash": "a578d1f49b6036e166af46dece1523bd739ee8e5589c95402a925a478052cad5"
  }
 },
 "nbformat": 4,
 "nbformat_minor": 5
}